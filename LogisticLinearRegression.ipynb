{
 "cells": [
  {
   "cell_type": "markdown",
   "id": "18da0cac",
   "metadata": {},
   "source": [
    "Imports"
   ]
  },
  {
   "cell_type": "code",
   "execution_count": 18,
   "id": "b26505fe",
   "metadata": {},
   "outputs": [],
   "source": [
    "import numpy as np\n",
    "from sklearn.datasets import make_regression\n",
    "from sklearn.model_selection import train_test_split\n",
    "from sklearn import datasets\n",
    "import warnings\n",
    "warnings.filterwarnings('ignore')"
   ]
  },
  {
   "cell_type": "markdown",
   "id": "dfce177c",
   "metadata": {},
   "source": [
    "Base Model"
   ]
  },
  {
   "cell_type": "code",
   "execution_count": 19,
   "id": "2113d07d",
   "metadata": {},
   "outputs": [],
   "source": [
    "class BaseRegression:\n",
    "    def __init__(self, lr = .001, num_iters = 10000):\n",
    "        self.lr = lr\n",
    "        self.num_iters = num_iters\n",
    "        self.weights = None\n",
    "        self.bias = None\n",
    "    \n",
    "    def fit(self, X, y):\n",
    "        n_sampels, n_features = X.shape\n",
    "        self.weights = np.zeros(n_features)\n",
    "        self.bias = 0\n",
    "        \n",
    "        for _ in range(self.num_iters):\n",
    "            y_predicted = self._approximation(X, self.weights, self.bias)\n",
    "\n",
    "            dw = (2 / n_sampels) * np.dot(X.T, (y_predicted - y))\n",
    "            db = (2 / n_sampels) * np.sum((y_predicted - y))\n",
    "            \n",
    "            self.weights -= self.lr * dw\n",
    "            self.bias    -= self.lr * db\n",
    "        \n",
    "    def predict(self, X):\n",
    "        return self._predict(X, self.weights, self.bias)\n",
    "    \n",
    "    def _predict(self, X, w, b):\n",
    "        raise NotImplementedError()\n",
    "        \n",
    "    def _approximation(self, X, w, b):\n",
    "        raise NotImplementedError()"
   ]
  },
  {
   "cell_type": "markdown",
   "id": "b7906d37",
   "metadata": {},
   "source": [
    "Linear Model"
   ]
  },
  {
   "cell_type": "code",
   "execution_count": 20,
   "id": "a89a3381",
   "metadata": {},
   "outputs": [],
   "source": [
    "class LinearRegression(BaseRegression):\n",
    "        \n",
    "    def _approximation(self, X, w, b):\n",
    "        y_predictions = np.dot(X, w) + b\n",
    "        return y_predictions\n",
    "        \n",
    "    def _predict(self, X, w, b):\n",
    "        y_predictions = np.dot(X, w) + b\n",
    "        return y_predictions"
   ]
  },
  {
   "cell_type": "markdown",
   "id": "5ed03d9f",
   "metadata": {},
   "source": [
    "Testing Linear Model"
   ]
  },
  {
   "cell_type": "code",
   "execution_count": 21,
   "id": "2b662a41",
   "metadata": {},
   "outputs": [],
   "source": [
    "dataset = make_regression(n_samples= 100, n_features=1, noise= 10)\n",
    "X, y = dataset\n",
    "X_train, X_test, y_train, y_test = train_test_split(X, y, test_size = .2, random_state=42)"
   ]
  },
  {
   "cell_type": "code",
   "execution_count": 22,
   "id": "09181c44",
   "metadata": {},
   "outputs": [],
   "source": [
    "def mse(y_true, y_pred):\n",
    "    return np.mean((y_true - y_pred) ** 2)"
   ]
  },
  {
   "cell_type": "code",
   "execution_count": 23,
   "id": "eb962023",
   "metadata": {},
   "outputs": [
    {
     "data": {
      "text/plain": [
       "78.64811117905451"
      ]
     },
     "execution_count": 23,
     "metadata": {},
     "output_type": "execute_result"
    }
   ],
   "source": [
    "reg = LinearRegression()\n",
    "reg.fit(X_train, y_train)\n",
    "y_predictions = reg.predict(X_test)\n",
    "mse(y_test , y_predictions)"
   ]
  },
  {
   "cell_type": "markdown",
   "id": "6e456399",
   "metadata": {},
   "source": [
    "Logistic Model"
   ]
  },
  {
   "cell_type": "code",
   "execution_count": 24,
   "id": "ee4653da",
   "metadata": {},
   "outputs": [],
   "source": [
    "class LogisticRegression(BaseRegression): \n",
    "    \n",
    "    def _approximation(self, X, w, b):\n",
    "        linear_model = np.dot(X, w) + b\n",
    "        \n",
    "        return self._sigmoid(linear_model)\n",
    "            \n",
    "    def _predict(self, X, w, b):\n",
    "        linear_model = np.dot(X, w) + b\n",
    "        y_predicted = self._sigmoid(linear_model)\n",
    "        y_predicted_cls = [1 if el > .5 else 0 for el in y_predicted]\n",
    "        \n",
    "        return y_predicted_cls\n",
    "    \n",
    "    def _sigmoid(self, x):\n",
    "        return 1 / (1 + np.exp(-x))"
   ]
  },
  {
   "cell_type": "markdown",
   "id": "b63b56e8",
   "metadata": {},
   "source": [
    "Testing Logistic Model"
   ]
  },
  {
   "cell_type": "code",
   "execution_count": 25,
   "id": "a9986cee",
   "metadata": {},
   "outputs": [],
   "source": [
    "bc = datasets.load_breast_cancer()\n",
    "X, y = bc.data, bc.target\n",
    "\n",
    "X_train, X_test, y_train, y_test = train_test_split(X, y, test_size=.2, random_state=42)"
   ]
  },
  {
   "cell_type": "code",
   "execution_count": 26,
   "id": "1d18c368",
   "metadata": {},
   "outputs": [],
   "source": [
    "def accuracy(y_true, y_pred):\n",
    "    acc = np.sum(y_pred == y_true) / len(y_true)\n",
    "    return acc"
   ]
  },
  {
   "cell_type": "code",
   "execution_count": 27,
   "id": "c836a361",
   "metadata": {},
   "outputs": [],
   "source": [
    "LR = LogisticRegression()\n",
    "LR.fit(X_train, y_train)\n",
    "predictions = LR.predict(X_test)"
   ]
  },
  {
   "cell_type": "code",
   "execution_count": 28,
   "id": "0fc5e078",
   "metadata": {},
   "outputs": [
    {
     "data": {
      "text/plain": [
       "0.9736842105263158"
      ]
     },
     "execution_count": 28,
     "metadata": {},
     "output_type": "execute_result"
    }
   ],
   "source": [
    "accuracy(y_test, predictions)"
   ]
  }
 ],
 "metadata": {
  "kernelspec": {
   "display_name": "Python 3 (ipykernel)",
   "language": "python",
   "name": "python3"
  },
  "language_info": {
   "codemirror_mode": {
    "name": "ipython",
    "version": 3
   },
   "file_extension": ".py",
   "mimetype": "text/x-python",
   "name": "python",
   "nbconvert_exporter": "python",
   "pygments_lexer": "ipython3",
   "version": "3.8.15"
  }
 },
 "nbformat": 4,
 "nbformat_minor": 5
}
