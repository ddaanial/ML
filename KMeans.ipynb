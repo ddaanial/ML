{
 "cells": [
  {
   "cell_type": "markdown",
   "id": "eda78796",
   "metadata": {},
   "source": [
    "Load Dataset"
   ]
  },
  {
   "cell_type": "code",
   "execution_count": 128,
   "id": "aa142a21",
   "metadata": {},
   "outputs": [],
   "source": [
    "import numpy as np\n",
    "import matplotlib.pyplot as plt\n",
    "from sklearn.datasets import make_blobs"
   ]
  },
  {
   "cell_type": "code",
   "execution_count": 129,
   "id": "e6fd4850",
   "metadata": {},
   "outputs": [],
   "source": [
    "X, y = make_blobs(centers=4, n_samples=500, n_features=2, shuffle=True, random_state=40)\n",
    "\n",
    "clusters = len(np.unique(y))"
   ]
  },
  {
   "cell_type": "markdown",
   "id": "95e4b236",
   "metadata": {},
   "source": [
    "Model"
   ]
  },
  {
   "cell_type": "code",
   "execution_count": 130,
   "id": "6f8066b7",
   "metadata": {},
   "outputs": [],
   "source": [
    "def Euclidean_distance(x1, x2):\n",
    "    return np.sqrt(np.sum((x1 - x2) ** 2))"
   ]
  },
  {
   "cell_type": "code",
   "execution_count": 131,
   "id": "dc62bfbe",
   "metadata": {},
   "outputs": [],
   "source": [
    "class KMeans:\n",
    "    def __init__(self, k=5, num_iters=200):\n",
    "        self.k = k\n",
    "        self.num_iters = num_iters\n",
    "        \n",
    "        # list of sample indices for each cluster\n",
    "        self.clusters = [[] for _ in range(self.k)]\n",
    "        \n",
    "        self.centroids = list()\n",
    "        \n",
    "    def predict(self, X):\n",
    "        self.X = X\n",
    "        self.n_samples, self.n_features = X.shape\n",
    "        \n",
    "        # initialize centroids\n",
    "        centroids_idxs = np.random.choice(self.n_samples, self.k, replace=False)\n",
    "        self.centroids = [self.X[idx] for idx in centroids_idxs]\n",
    "        \n",
    "        # optimize\n",
    "        for _ in range(self.num_iters):\n",
    "            #update clusters\n",
    "            self.clusters = self._create_clusters(self.centroids)\n",
    "            \n",
    "            #update centroids\n",
    "            old_centroids = self.centroids\n",
    "            self.centroids = self._get_updated_centroids(self.clusters)\n",
    "            \n",
    "            #converge\n",
    "            if self._is_converged(old_centroids, self.centroids):\n",
    "                break\n",
    "            \n",
    "        return self._get_cluster_labels(self.clusters)\n",
    "    \n",
    "    def _get_cluster_labels(self, clusters):\n",
    "        labels = np.empty(self.n_samples)\n",
    "        for idx, cluster in enumerate(clusters):\n",
    "            for sample in cluster:\n",
    "                labels[sample] = idx      \n",
    "        return labels\n",
    "            \n",
    "    \n",
    "    def _create_clusters(self, centroids):\n",
    "        clusters = [[] for _ in range(self.k)]   \n",
    "        for idx, x in enumerate(self.X):\n",
    "            center_blong = self._which_center(x, centroids)\n",
    "            clusters[center_blong].append(idx)\n",
    "        return clusters\n",
    "    \n",
    "    def _which_center(self, x, centroids):\n",
    "        distances = [Euclidean_distance(x, center) for center in centroids]\n",
    "        closest_idx = np.argmin(distances)\n",
    "        return closest_idx\n",
    "    \n",
    "    def _get_updated_centroids(self, clusters):\n",
    "        centroids = np.zeros((self.k, self.n_features))\n",
    "        for idx, cluster in enumerate(clusters):\n",
    "            avg = np.mean(self.X[cluster], axis=0)\n",
    "            centroids[idx] = avg\n",
    "        return centroids\n",
    "    \n",
    "    def _is_converged(self, old_centroids, cur_centroids):\n",
    "        distances = [Euclidean_distance(old_centroids[idx], cur_centroids[idx]) for idx in range(self.k)]\n",
    "        return np.sum(distances) == 0\n",
    "    \n",
    "    def plot(self):\n",
    "        fig, ax = plt.subplots(figsize=(4, 4))\n",
    "        \n",
    "        for i, index in enumerate(self.clusters):\n",
    "            points = self.X[index].T\n",
    "            ax.scatter(*points)\n",
    "            \n",
    "        for point in self.centroids:\n",
    "            ax.scatter(*point, marker='X', color='y', linewidth=2)\n",
    "        \n",
    "        plt.axis('off')\n",
    "        plt.show()"
   ]
  },
  {
   "cell_type": "markdown",
   "id": "1a2e7d27",
   "metadata": {},
   "source": [
    "Testing and Plot"
   ]
  },
  {
   "cell_type": "code",
   "execution_count": 132,
   "id": "3287bbf9",
   "metadata": {},
   "outputs": [
    {
     "data": {
      "image/png": "[encoded data removed]",
      "text/plain": [
       "<Figure size 400x400 with 1 Axes>"
      ]
     },
     "metadata": {},
     "output_type": "display_data"
    }
   ],
   "source": [
    "k = KMeans(k=clusters)\n",
    "g = k.predict(X)\n",
    "k.plot()"
   ]
  }
 ],
 "metadata": {
  "kernelspec": {
   "display_name": "Python 3 (ipykernel)",
   "language": "python",
   "name": "python3"
  },
  "language_info": {
   "codemirror_mode": {
    "name": "ipython",
    "version": 3
   },
   "file_extension": ".py",
   "mimetype": "text/x-python",
   "name": "python",
   "nbconvert_exporter": "python",
   "pygments_lexer": "ipython3",
   "version": "3.8.15"
  }
 },
 "nbformat": 4,
 "nbformat_minor": 5
}
