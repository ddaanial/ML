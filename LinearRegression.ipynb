{
 "cells": [
  {
   "cell_type": "markdown",
   "id": "a02a9ba4",
   "metadata": {},
   "source": [
    "Loading Dataset"
   ]
  },
  {
   "cell_type": "code",
   "execution_count": 154,
   "id": "6753fd8d",
   "metadata": {},
   "outputs": [],
   "source": [
    "import numpy as np\n",
    "from sklearn.datasets import make_regression\n",
    "from sklearn.model_selection import train_test_split"
   ]
  },
  {
   "cell_type": "code",
   "execution_count": 155,
   "id": "802537c7",
   "metadata": {},
   "outputs": [],
   "source": [
    "dataset = make_regression(n_samples= 100, n_features=1, noise= 10)\n",
    "X, y = dataset\n",
    "X_train, X_test, y_train, y_test = train_test_split(X, y, test_size = .2, random_state=42)"
   ]
  },
  {
   "cell_type": "markdown",
   "id": "8c723dbe",
   "metadata": {},
   "source": [
    "Model"
   ]
  },
  {
   "cell_type": "code",
   "execution_count": 156,
   "id": "cad03c9f",
   "metadata": {},
   "outputs": [],
   "source": [
    "class LinearRegression():\n",
    "    def __init__(self, lr = .01, num_iters = 10000):\n",
    "        self.lr = lr\n",
    "        self.num_iters = num_iters\n",
    "        self.weights = None\n",
    "        self.bias = None\n",
    "        \n",
    "    def fit(self, X, y):\n",
    "        self.n_sampels, self.n_features = X.shape\n",
    "        self.weights = np.zeros(self.n_features)\n",
    "        self.bias = 0\n",
    "        \n",
    "        y_predictions = np.dot(X, self.weights) + self.bias\n",
    "        \n",
    "        dw = (2 / self.n_sampels) * np.dot(X.T, (y_predictions - y))\n",
    "        db = (2 / self.n_sampels) * np.sum(y_predictions - y)\n",
    "        \n",
    "        self.weights -= self.lr * dw\n",
    "        self.bias    -= self.lr * db\n",
    "        \n",
    "    def predict(self, X):\n",
    "        y_predictions = np.dot(X, self.weights) + self.bias\n",
    "        return y_predictions"
   ]
  },
  {
   "cell_type": "markdown",
   "id": "aabc1c71",
   "metadata": {},
   "source": [
    "Testing"
   ]
  },
  {
   "cell_type": "code",
   "execution_count": 157,
   "id": "d5a9a47a",
   "metadata": {},
   "outputs": [],
   "source": [
    "def mse(y_true, y_pred):\n",
    "    return np.mean((y_true - y_pred) ** 2)"
   ]
  },
  {
   "cell_type": "code",
   "execution_count": 158,
   "id": "ea5668e8",
   "metadata": {},
   "outputs": [
    {
     "data": {
      "text/plain": [
       "498.20204350956726"
      ]
     },
     "execution_count": 158,
     "metadata": {},
     "output_type": "execute_result"
    }
   ],
   "source": [
    "reg = LinearRegression()\n",
    "reg.fit(X_train, y_train)\n",
    "y_predictions = reg.predict(X_test)\n",
    "mse(y_test , y_predictions)"
   ]
  }
 ],
 "metadata": {
  "kernelspec": {
   "display_name": "Python 3 (ipykernel)",
   "language": "python",
   "name": "python3"
  },
  "language_info": {
   "codemirror_mode": {
    "name": "ipython",
    "version": 3
   },
   "file_extension": ".py",
   "mimetype": "text/x-python",
   "name": "python",
   "nbconvert_exporter": "python",
   "pygments_lexer": "ipython3",
   "version": "3.8.15"
  }
 },
 "nbformat": 4,
 "nbformat_minor": 5
}
